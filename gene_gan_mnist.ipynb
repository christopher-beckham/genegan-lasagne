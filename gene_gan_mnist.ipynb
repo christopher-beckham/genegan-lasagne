{
 "cells": [
  {
   "cell_type": "markdown",
   "metadata": {},
   "source": [
    "## MNIST implementation of GeneGAN"
   ]
  },
  {
   "cell_type": "markdown",
   "metadata": {},
   "source": [
    "https://arxiv.org/pdf/1705.04932.pdf"
   ]
  },
  {
   "cell_type": "code",
   "execution_count": 1,
   "metadata": {
    "collapsed": true
   },
   "outputs": [],
   "source": [
    "import numpy as np\n",
    "import theano\n",
    "from theano import tensor as T\n",
    "import lasagne\n",
    "from lasagne.layers import *\n",
    "from lasagne.nonlinearities import *\n",
    "from lasagne.objectives import *\n",
    "from lasagne.updates import *\n",
    "import sys"
   ]
  },
  {
   "cell_type": "code",
   "execution_count": 140,
   "metadata": {
    "collapsed": true
   },
   "outputs": [],
   "source": [
    "import matplotlib.pyplot as plt\n",
    "%matplotlib inline"
   ]
  },
  {
   "cell_type": "code",
   "execution_count": 244,
   "metadata": {
    "collapsed": true
   },
   "outputs": [],
   "source": [
    "leaky_relu = LeakyRectify(0.2)"
   ]
  },
  {
   "cell_type": "code",
   "execution_count": 304,
   "metadata": {
    "collapsed": true
   },
   "outputs": [],
   "source": [
    "def print_network(l_out):\n",
    "    for layer in get_all_layers(l_out):\n",
    "        print layer.__class__.__name__, layer.output_shape, \\\n",
    "        \"\" if not hasattr(layer, 'nonlinearity') else layer.nonlinearity\n",
    "    print \"# params:\", count_params(l_out)"
   ]
  },
  {
   "cell_type": "code",
   "execution_count": 298,
   "metadata": {
    "collapsed": true
   },
   "outputs": [],
   "source": [
    "def encoder(enc_size=64, feat_size=64):\n",
    "    l_in_conv = InputLayer((None,1,28,28))\n",
    "    conv_layer = l_in_conv\n",
    "    for i in range(3):\n",
    "        conv_layer = batch_norm(\n",
    "            Conv2DLayer(conv_layer, num_filters=(i+1)*32, filter_size=3, stride=2, nonlinearity=leaky_relu)\n",
    "        )\n",
    "    conv_layer = batch_norm(\n",
    "        Conv2DLayer(conv_layer, num_filters=(i+1)*32, filter_size=2, nonlinearity=leaky_relu)\n",
    "    )\n",
    "    l_enc = DenseLayer(conv_layer, num_units=enc_size, nonlinearity=leaky_relu)\n",
    "    l_feat = DenseLayer(conv_layer, num_units=feat_size, nonlinearity=leaky_relu)\n",
    "    return {\"l_enc\": l_enc, \"l_feat\": l_feat}"
   ]
  },
  {
   "cell_type": "code",
   "execution_count": 299,
   "metadata": {
    "collapsed": false
   },
   "outputs": [],
   "source": [
    "def decoder(enc_size=64, feat_size=64):\n",
    "    l_in_enc = InputLayer((None, enc_size))\n",
    "    l_in_feat = InputLayer((None, feat_size))\n",
    "    l_concat = ConcatLayer((l_in_enc, l_in_feat))\n",
    "    l_dense = batch_norm(DenseLayer(l_concat, 96*1*1, nonlinearity=leaky_relu))\n",
    "    l_reshape = ReshapeLayer(l_dense, (-1, 96, 1, 1))\n",
    "    deconv_layer = l_reshape\n",
    "    for i in range(3, 0, -1):\n",
    "        deconv_layer = batch_norm(\n",
    "            Deconv2DLayer(deconv_layer, filter_size=3, num_filters=i*32, stride=2, nonlinearity=leaky_relu)\n",
    "        )\n",
    "    deconv_layer = Deconv2DLayer(\n",
    "        deconv_layer, filter_size=4, num_filters=1, stride=2, crop=2, nonlinearity=sigmoid)\n",
    "    return {\"l_in_enc\": l_in_enc, \"l_in_feat\": l_in_feat, \"out\": deconv_layer}"
   ]
  },
  {
   "cell_type": "code",
   "execution_count": 300,
   "metadata": {
    "collapsed": false
   },
   "outputs": [],
   "source": [
    "def discriminator():\n",
    "    l_in_conv = InputLayer((None,1,28,28))\n",
    "    conv_layer = l_in_conv\n",
    "    for i in range(3):\n",
    "        conv_layer = Conv2DLayer(\n",
    "            conv_layer, num_filters=(i+1)*16, filter_size=3, stride=2, nonlinearity=leaky_relu)\n",
    "    conv_layer = Conv2DLayer(\n",
    "        conv_layer, num_filters=(i+1)*16, filter_size=2, nonlinearity=leaky_relu)\n",
    "    l_sigm = DenseLayer(conv_layer, num_units=1, nonlinearity=sigmoid)\n",
    "    return l_sigm"
   ]
  },
  {
   "cell_type": "code",
   "execution_count": 258,
   "metadata": {
    "collapsed": true
   },
   "outputs": [],
   "source": [
    "# do the A stuff\n",
    "# l_in_feat = the object vector, l_in_enc = the encoding of the image"
   ]
  },
  {
   "cell_type": "code",
   "execution_count": 302,
   "metadata": {
    "collapsed": true
   },
   "outputs": [],
   "source": [
    "adv_loss = squared_error # for LSGAN"
   ]
  },
  {
   "cell_type": "code",
   "execution_count": 305,
   "metadata": {
    "collapsed": false
   },
   "outputs": [
    {
     "name": "stdout",
     "output_type": "stream",
     "text": [
      "InputLayer (None, 1, 28, 28) \n",
      "Conv2DLayer (None, 32, 13, 13) <function linear at 0x114cb3668>\n",
      "BatchNormLayer (None, 32, 13, 13) \n",
      "NonlinearityLayer (None, 32, 13, 13) <lasagne.nonlinearities.LeakyRectify object at 0x124f2d2d0>\n",
      "Conv2DLayer (None, 64, 6, 6) <function linear at 0x114cb3668>\n",
      "BatchNormLayer (None, 64, 6, 6) \n",
      "NonlinearityLayer (None, 64, 6, 6) <lasagne.nonlinearities.LeakyRectify object at 0x124f2d2d0>\n",
      "Conv2DLayer (None, 96, 2, 2) <function linear at 0x114cb3668>\n",
      "BatchNormLayer (None, 96, 2, 2) \n",
      "NonlinearityLayer (None, 96, 2, 2) <lasagne.nonlinearities.LeakyRectify object at 0x124f2d2d0>\n",
      "Conv2DLayer (None, 96, 1, 1) <function linear at 0x114cb3668>\n",
      "BatchNormLayer (None, 96, 1, 1) \n",
      "NonlinearityLayer (None, 96, 1, 1) <lasagne.nonlinearities.LeakyRectify object at 0x124f2d2d0>\n",
      "DenseLayer (None, 64) <lasagne.nonlinearities.LeakyRectify object at 0x124f2d2d0>\n",
      "# params: 118240\n"
     ]
    }
   ],
   "source": [
    "dd = encoder()\n",
    "print_network(dd[\"l_feat\"])"
   ]
  },
  {
   "cell_type": "code",
   "execution_count": 306,
   "metadata": {
    "collapsed": false
   },
   "outputs": [
    {
     "name": "stdout",
     "output_type": "stream",
     "text": [
      "InputLayer (None, 64) \n",
      "InputLayer (None, 64) \n",
      "ConcatLayer (None, 128) \n",
      "DenseLayer (None, 96) <function linear at 0x114cb3668>\n",
      "BatchNormLayer (None, 96) \n",
      "NonlinearityLayer (None, 96) <lasagne.nonlinearities.LeakyRectify object at 0x124f2d2d0>\n",
      "ReshapeLayer (None, 96, 1, 1) \n",
      "TransposedConv2DLayer (None, 96, 3, 3) <function linear at 0x114cb3668>\n",
      "BatchNormLayer (None, 96, 3, 3) \n",
      "NonlinearityLayer (None, 96, 3, 3) <lasagne.nonlinearities.LeakyRectify object at 0x124f2d2d0>\n",
      "TransposedConv2DLayer (None, 64, 7, 7) <function linear at 0x114cb3668>\n",
      "BatchNormLayer (None, 64, 7, 7) \n",
      "NonlinearityLayer (None, 64, 7, 7) <lasagne.nonlinearities.LeakyRectify object at 0x124f2d2d0>\n",
      "TransposedConv2DLayer (None, 32, 15, 15) <function linear at 0x114cb3668>\n",
      "BatchNormLayer (None, 32, 15, 15) \n",
      "NonlinearityLayer (None, 32, 15, 15) <lasagne.nonlinearities.LeakyRectify object at 0x124f2d2d0>\n",
      "TransposedConv2DLayer (None, 1, 28, 28) <function sigmoid at 0x114c97938>\n",
      "# params: 170625\n"
     ]
    }
   ],
   "source": [
    "dd_dec = decoder()\n",
    "print_network(dd_dec[\"out\"])"
   ]
  },
  {
   "cell_type": "code",
   "execution_count": 307,
   "metadata": {
    "collapsed": true
   },
   "outputs": [],
   "source": [
    "Au = T.tensor4('Au')\n",
    "B0 = T.tensor4('B0')"
   ]
  },
  {
   "cell_type": "code",
   "execution_count": 308,
   "metadata": {
    "collapsed": false
   },
   "outputs": [],
   "source": [
    "A_for_Au, u_for_Au = get_output([dd['l_enc'], dd['l_feat']], Au)"
   ]
  },
  {
   "cell_type": "code",
   "execution_count": 309,
   "metadata": {
    "collapsed": false
   },
   "outputs": [],
   "source": [
    "decode_into_Au = get_output(\n",
    "    dd_dec['out'], \n",
    "    {dd_dec['l_in_enc']: A_for_Au, dd_dec['l_in_feat']: u_for_Au}\n",
    ")"
   ]
  },
  {
   "cell_type": "code",
   "execution_count": 310,
   "metadata": {
    "collapsed": true
   },
   "outputs": [],
   "source": [
    "decode_into_A0 = get_output(\n",
    "    dd_dec['out'],\n",
    "    {dd_dec['l_in_enc']: A_for_Au, dd_dec['l_in_feat']: T.zeros_like(u_for_Au)}\n",
    ")"
   ]
  },
  {
   "cell_type": "code",
   "execution_count": 359,
   "metadata": {
    "collapsed": true
   },
   "outputs": [],
   "source": [
    "# debug\n",
    "a = T.fmatrix('a')\n",
    "decode_into_Au_using_custom_a = get_output(\n",
    "    dd_dec['out'], \n",
    "    {dd_dec['l_in_enc']: A_for_Au, dd_dec['l_in_feat']: a}\n",
    ")\n",
    "#######"
   ]
  },
  {
   "cell_type": "code",
   "execution_count": 311,
   "metadata": {
    "collapsed": true
   },
   "outputs": [],
   "source": [
    "Au_recon_loss = T.abs_(decode_into_Au - Au).mean()"
   ]
  },
  {
   "cell_type": "code",
   "execution_count": 312,
   "metadata": {
    "collapsed": false
   },
   "outputs": [
    {
     "name": "stdout",
     "output_type": "stream",
     "text": [
      "InputLayer (None, 1, 28, 28) \n",
      "Conv2DLayer (None, 16, 13, 13) <lasagne.nonlinearities.LeakyRectify object at 0x124f2d2d0>\n",
      "Conv2DLayer (None, 32, 6, 6) <lasagne.nonlinearities.LeakyRectify object at 0x124f2d2d0>\n",
      "Conv2DLayer (None, 48, 2, 2) <lasagne.nonlinearities.LeakyRectify object at 0x124f2d2d0>\n",
      "Conv2DLayer (None, 48, 1, 1) <lasagne.nonlinearities.LeakyRectify object at 0x124f2d2d0>\n",
      "DenseLayer (None, 1) <function sigmoid at 0x114c97938>\n",
      "# params: 27985\n"
     ]
    }
   ],
   "source": [
    "disc = discriminator()\n",
    "print_network(disc)"
   ]
  },
  {
   "cell_type": "code",
   "execution_count": 313,
   "metadata": {
    "collapsed": true
   },
   "outputs": [],
   "source": [
    "disc_for_A0 = get_output(disc, decode_into_A0)"
   ]
  },
  {
   "cell_type": "code",
   "execution_count": 314,
   "metadata": {
    "collapsed": false
   },
   "outputs": [],
   "source": [
    "disc_for_B0 = get_output(disc, B0)"
   ]
  },
  {
   "cell_type": "code",
   "execution_count": 315,
   "metadata": {
    "collapsed": true
   },
   "outputs": [],
   "source": [
    "# the discriminator returns the probability the image\n",
    "# is a ground truth, i.e., it is B0, and not the predicted A0\n",
    "disc_1_loss = adv_loss(disc_for_B0, 1.).mean() + adv_loss(disc_for_A0, 0.).mean()"
   ]
  },
  {
   "cell_type": "code",
   "execution_count": 316,
   "metadata": {
    "collapsed": true
   },
   "outputs": [],
   "source": [
    "Au_generator_loss = adv_loss(disc_for_A0, 1.).mean()"
   ]
  },
  {
   "cell_type": "markdown",
   "metadata": {},
   "source": [
    "**Total loss: reconstruction error + GAN loss to distinguish A0 (fake) and B0 (real)**"
   ]
  },
  {
   "cell_type": "code",
   "execution_count": 317,
   "metadata": {
    "collapsed": true
   },
   "outputs": [],
   "source": [
    "total_generator_loss = Au_generator_loss + Au_recon_loss"
   ]
  },
  {
   "cell_type": "code",
   "execution_count": 318,
   "metadata": {
    "collapsed": false
   },
   "outputs": [
    {
     "data": {
      "text/plain": [
       "array(0.7567213736559597)"
      ]
     },
     "execution_count": 318,
     "metadata": {},
     "output_type": "execute_result"
    }
   ],
   "source": [
    "total_generator_loss.eval({Au: np.ones((10,1,28,28))})"
   ]
  },
  {
   "cell_type": "markdown",
   "metadata": {},
   "source": [
    "-------------"
   ]
  },
  {
   "cell_type": "code",
   "execution_count": 319,
   "metadata": {
    "collapsed": true
   },
   "outputs": [],
   "source": [
    "B_for_B0, eps_for_B0 = get_output([dd['l_enc'], dd['l_feat']], B0)"
   ]
  },
  {
   "cell_type": "code",
   "execution_count": 320,
   "metadata": {
    "collapsed": true
   },
   "outputs": [],
   "source": [
    "decode_into_Bu = get_output(\n",
    "    dd_dec['out'], \n",
    "    {dd_dec['l_in_enc']: B_for_B0, dd_dec['l_in_feat']: u_for_Au}\n",
    ")"
   ]
  },
  {
   "cell_type": "code",
   "execution_count": 321,
   "metadata": {
    "collapsed": true
   },
   "outputs": [],
   "source": [
    "decode_into_B0 = get_output(\n",
    "    dd_dec['out'], \n",
    "    {dd_dec['l_in_enc']: B_for_B0, dd_dec['l_in_feat']: T.zeros_like(u_for_Au)}\n",
    ")"
   ]
  },
  {
   "cell_type": "code",
   "execution_count": 322,
   "metadata": {
    "collapsed": true
   },
   "outputs": [],
   "source": [
    "eps_loss = T.abs_(eps_for_B0).mean()"
   ]
  },
  {
   "cell_type": "code",
   "execution_count": 323,
   "metadata": {
    "collapsed": true
   },
   "outputs": [],
   "source": [
    "B0_recon_loss = T.abs_(decode_into_B0 - B0).mean()"
   ]
  },
  {
   "cell_type": "code",
   "execution_count": 324,
   "metadata": {
    "collapsed": false
   },
   "outputs": [
    {
     "name": "stdout",
     "output_type": "stream",
     "text": [
      "InputLayer (None, 1, 28, 28) \n",
      "Conv2DLayer (None, 16, 13, 13) <lasagne.nonlinearities.LeakyRectify object at 0x124f2d2d0>\n",
      "Conv2DLayer (None, 32, 6, 6) <lasagne.nonlinearities.LeakyRectify object at 0x124f2d2d0>\n",
      "Conv2DLayer (None, 48, 2, 2) <lasagne.nonlinearities.LeakyRectify object at 0x124f2d2d0>\n",
      "Conv2DLayer (None, 48, 1, 1) <lasagne.nonlinearities.LeakyRectify object at 0x124f2d2d0>\n",
      "DenseLayer (None, 1) <function sigmoid at 0x114c97938>\n",
      "# params: 27985\n"
     ]
    }
   ],
   "source": [
    "disc2 = discriminator()\n",
    "print_network(disc2)"
   ]
  },
  {
   "cell_type": "code",
   "execution_count": 325,
   "metadata": {
    "collapsed": true
   },
   "outputs": [],
   "source": [
    "disc_for_Au = get_output(disc2, decode_into_Au)\n",
    "disc_for_Bu = get_output(disc2, decode_into_Bu)"
   ]
  },
  {
   "cell_type": "code",
   "execution_count": 326,
   "metadata": {
    "collapsed": true
   },
   "outputs": [],
   "source": [
    "# the discriminator returns the probability the image\n",
    "# is a ground truth, i.e., it is Au, and not the predicted Bu\n",
    "disc_2_loss = adv_loss(disc_for_Au, 1.).mean() + adv_loss(disc_for_Bu, 0.).mean()"
   ]
  },
  {
   "cell_type": "code",
   "execution_count": 327,
   "metadata": {
    "collapsed": true
   },
   "outputs": [],
   "source": [
    "Bu_generator_loss = adv_loss(disc_for_Bu, 1.).mean()"
   ]
  },
  {
   "cell_type": "markdown",
   "metadata": {},
   "source": [
    "**Total loss: reconstruction error + GAN loss to distinguish Bu (fake) and Au (real)**"
   ]
  },
  {
   "cell_type": "code",
   "execution_count": 328,
   "metadata": {
    "collapsed": true
   },
   "outputs": [],
   "source": [
    "total_generator_loss_2 = Bu_generator_loss + B0_recon_loss + eps_loss"
   ]
  },
  {
   "cell_type": "markdown",
   "metadata": {},
   "source": [
    "-------"
   ]
  },
  {
   "cell_type": "code",
   "execution_count": 329,
   "metadata": {
    "collapsed": true
   },
   "outputs": [],
   "source": [
    "total_loss = total_generator_loss + total_generator_loss_2"
   ]
  },
  {
   "cell_type": "markdown",
   "metadata": {},
   "source": [
    "-------"
   ]
  },
  {
   "cell_type": "markdown",
   "metadata": {},
   "source": [
    "Load in the dataset n shit"
   ]
  },
  {
   "cell_type": "code",
   "execution_count": 122,
   "metadata": {
    "collapsed": false
   },
   "outputs": [],
   "source": [
    "def load_dataset():\n",
    "    # We first define a download function, supporting both Python 2 and 3.\n",
    "    import sys\n",
    "    import os\n",
    "    if sys.version_info[0] == 2:\n",
    "        from urllib import urlretrieve\n",
    "    else:\n",
    "        from urllib.request import urlretrieve\n",
    "\n",
    "    def download(filename, source='http://yann.lecun.com/exdb/mnist/'):\n",
    "        print(\"Downloading %s\" % filename)\n",
    "        urlretrieve(source + filename, filename)\n",
    "\n",
    "    # We then define functions for loading MNIST images and labels.\n",
    "    # For convenience, they also download the requested files if needed.\n",
    "    import gzip\n",
    "\n",
    "    def load_mnist_images(filename):\n",
    "        if not os.path.exists(filename):\n",
    "            download(filename)\n",
    "        # Read the inputs in Yann LeCun's binary format.\n",
    "        with gzip.open(filename, 'rb') as f:\n",
    "            data = np.frombuffer(f.read(), np.uint8, offset=16)\n",
    "        # The inputs are vectors now, we reshape them to monochrome 2D images,\n",
    "        # following the shape convention: (examples, channels, rows, columns)\n",
    "        data = data.reshape(-1, 1, 28, 28)\n",
    "        # The inputs come as bytes, we convert them to float32 in range [0,1].\n",
    "        # (Actually to range [0, 255/256], for compatibility to the version\n",
    "        # provided at http://deeplearning.net/data/mnist/mnist.pkl.gz.)\n",
    "        return data / np.float32(256)\n",
    "\n",
    "    def load_mnist_labels(filename):\n",
    "        if not os.path.exists(filename):\n",
    "            download(filename)\n",
    "        # Read the labels in Yann LeCun's binary format.\n",
    "        with gzip.open(filename, 'rb') as f:\n",
    "            data = np.frombuffer(f.read(), np.uint8, offset=8)\n",
    "        # The labels are vectors of integers now, that's exactly what we want.\n",
    "        return data\n",
    "\n",
    "    # We can now download and read the training and test set images and labels.\n",
    "    X_train = load_mnist_images('train-images-idx3-ubyte.gz')\n",
    "    y_train = load_mnist_labels('train-labels-idx1-ubyte.gz')\n",
    "    X_test = load_mnist_images('t10k-images-idx3-ubyte.gz')\n",
    "    y_test = load_mnist_labels('t10k-labels-idx1-ubyte.gz')\n",
    "\n",
    "    # We reserve the last 10000 training examples for validation.\n",
    "    X_train, X_val = X_train[:-10000], X_train[-10000:]\n",
    "    y_train, y_val = y_train[:-10000], y_train[-10000:]\n",
    "\n",
    "    # We just return all the arrays in order, as expected in main().\n",
    "    # (It doesn't matter how we do this as long as we can read them again.)\n",
    "    return X_train, y_train, X_val, y_val, X_test, y_test\n",
    "\n",
    "X_train, y_train, _, _, _, _ = load_dataset()\n"
   ]
  },
  {
   "cell_type": "code",
   "execution_count": 220,
   "metadata": {
    "collapsed": false
   },
   "outputs": [],
   "source": [
    "X_Au = X_train[y_train == 9]\n",
    "X_B0 = X_train[y_train == 0]"
   ]
  },
  {
   "cell_type": "code",
   "execution_count": 221,
   "metadata": {
    "collapsed": false
   },
   "outputs": [],
   "source": [
    "def iterator(Au_full, B0_full, bs=32, shuffle=True):\n",
    "    n_min = min(Au_full.shape[0], B0_full.shape[0])\n",
    "    if shuffle:\n",
    "        np.random.shuffle(Au_full)\n",
    "        np.random.shuffle(B0_full)\n",
    "    for b in range(n_min // bs):\n",
    "        yield Au_full[b*bs:(b+1)*bs], B0_full[b*bs:(b+1)*bs]"
   ]
  },
  {
   "cell_type": "code",
   "execution_count": 223,
   "metadata": {
    "collapsed": false
   },
   "outputs": [],
   "source": [
    "for xx, yy in iterator(X_Au, X_B0):\n",
    "    break"
   ]
  },
  {
   "cell_type": "markdown",
   "metadata": {},
   "source": [
    "---------"
   ]
  },
  {
   "cell_type": "code",
   "execution_count": 330,
   "metadata": {
    "collapsed": false
   },
   "outputs": [],
   "source": [
    "gen_params = get_all_params(ConcatLayer([dd['l_enc'], dd['l_feat']]), trainable=True)"
   ]
  },
  {
   "cell_type": "code",
   "execution_count": 331,
   "metadata": {
    "collapsed": false
   },
   "outputs": [],
   "source": [
    "disc_params = get_all_params(dd_dec['out'], trainable=True)"
   ]
  },
  {
   "cell_type": "code",
   "execution_count": 332,
   "metadata": {
    "collapsed": false
   },
   "outputs": [],
   "source": [
    "tot_gen_params = gen_params + disc_params"
   ]
  },
  {
   "cell_type": "code",
   "execution_count": 333,
   "metadata": {
    "collapsed": false
   },
   "outputs": [],
   "source": [
    "disc1_params = get_all_params(disc, trainable=True)"
   ]
  },
  {
   "cell_type": "code",
   "execution_count": 334,
   "metadata": {
    "collapsed": true
   },
   "outputs": [],
   "source": [
    "disc2_params = get_all_params(disc2, trainable=True)"
   ]
  },
  {
   "cell_type": "code",
   "execution_count": 335,
   "metadata": {
    "collapsed": false
   },
   "outputs": [],
   "source": [
    "gen_updates = adam(total_loss, tot_gen_params, learning_rate=1e-4)"
   ]
  },
  {
   "cell_type": "code",
   "execution_count": 336,
   "metadata": {
    "collapsed": false
   },
   "outputs": [],
   "source": [
    "gen_updates.update(adam(disc_1_loss, disc1_params, learning_rate=1e-4))"
   ]
  },
  {
   "cell_type": "code",
   "execution_count": 337,
   "metadata": {
    "collapsed": false
   },
   "outputs": [],
   "source": [
    "gen_updates.update(adam(disc_2_loss, disc2_params, learning_rate=1e-4))"
   ]
  },
  {
   "cell_type": "code",
   "execution_count": 338,
   "metadata": {
    "collapsed": true
   },
   "outputs": [],
   "source": [
    "train_fn = theano.function([Au, B0],\n",
    "                           [total_loss, disc_1_loss, disc_2_loss], \n",
    "                           updates=gen_updates)"
   ]
  },
  {
   "cell_type": "code",
   "execution_count": 339,
   "metadata": {
    "collapsed": false
   },
   "outputs": [
    {
     "name": "stdout",
     "output_type": "stream",
     "text": [
      "1.56974790178 0.366790527241 0.499946535981\n",
      "1.30809334149 0.269076464323 0.499692169942\n",
      "1.22678785255 0.303944462559 0.499588043248\n",
      "1.181036347 0.268119846268 0.499749043189\n",
      "1.13398245274 0.294923282009 0.499700601583\n",
      "1.04546600998 0.471262925362 0.499147750602\n",
      "0.97069957688 0.468375154016 0.499383119647\n",
      "0.89044532306 0.537225709767 0.497100086387\n",
      "0.911976017968 0.509977423559 0.487900220992\n",
      "0.871872183899 0.508109644562 0.484657152755\n"
     ]
    }
   ],
   "source": [
    "for epoch in range(10):\n",
    "    losses_a, losses_b, losses_c = [], [], []\n",
    "    for X_Au_batch,X_B0_batch in iterator(X_Au, X_B0):\n",
    "        a,b,c = train_fn(X_Au_batch,X_B0_batch)\n",
    "        losses_a.append(a)\n",
    "        losses_b.append(b)\n",
    "        losses_c.append(c)\n",
    "    print np.mean(losses_a), np.mean(losses_b), np.mean(losses_c)"
   ]
  },
  {
   "cell_type": "code",
   "execution_count": 341,
   "metadata": {
    "collapsed": false
   },
   "outputs": [],
   "source": [
    "enc_fn = theano.function([Au], [A_for_Au, u_for_Au])"
   ]
  },
  {
   "cell_type": "code",
   "execution_count": 349,
   "metadata": {
    "collapsed": true
   },
   "outputs": [],
   "source": [
    "zero_fn = theano.function([Au], decode_into_A0)"
   ]
  },
  {
   "cell_type": "code",
   "execution_count": 360,
   "metadata": {
    "collapsed": true
   },
   "outputs": [],
   "source": [
    "# if we compute the norms of the latent vectors for Au..."
   ]
  },
  {
   "cell_type": "code",
   "execution_count": 346,
   "metadata": {
    "collapsed": false
   },
   "outputs": [
    {
     "data": {
      "text/plain": [
       "56.571419513566241"
      ]
     },
     "execution_count": 346,
     "metadata": {},
     "output_type": "execute_result"
    }
   ],
   "source": [
    "np.sum(enc_fn(X_Au[0:10])[1]**2)"
   ]
  },
  {
   "cell_type": "code",
   "execution_count": 362,
   "metadata": {
    "collapsed": true
   },
   "outputs": [],
   "source": [
    "# if we compute the norms of the latent vectors for B0,\n",
    "# we expect something very small compared to the above result..."
   ]
  },
  {
   "cell_type": "code",
   "execution_count": 348,
   "metadata": {
    "collapsed": false
   },
   "outputs": [
    {
     "data": {
      "text/plain": [
       "0.1489140986336929"
      ]
     },
     "execution_count": 348,
     "metadata": {},
     "output_type": "execute_result"
    }
   ],
   "source": [
    "np.sum(enc_fn(X_B0[0:10])[1]**2)"
   ]
  },
  {
   "cell_type": "markdown",
   "metadata": {},
   "source": [
    "'Au' images consist of 9's. If we encode it into its internal representation + a latent vector, the latter of which represents the vertical line in the 9, if we zero out this latent vector and decode, we get a zero..."
   ]
  },
  {
   "cell_type": "code",
   "execution_count": 427,
   "metadata": {
    "collapsed": false
   },
   "outputs": [
    {
     "data": {
      "text/plain": [
       "<matplotlib.image.AxesImage at 0x12e5bb250>"
      ]
     },
     "execution_count": 427,
     "metadata": {},
     "output_type": "execute_result"
    },
    {
     "data": {
      "image/png": "[encoded data removed]",
      "text/plain": [
       "<matplotlib.figure.Figure at 0x12a1b3f50>"
      ]
     },
     "metadata": {},
     "output_type": "display_data"
    }
   ],
   "source": [
    "plt.figure(figsize=(2,2))\n",
    "plt.imshow(X_Au[0][0],cmap=\"gray\")"
   ]
  },
  {
   "cell_type": "code",
   "execution_count": 428,
   "metadata": {
    "collapsed": false
   },
   "outputs": [
    {
     "data": {
      "text/plain": [
       "<matplotlib.image.AxesImage at 0x11d2cd1d0>"
      ]
     },
     "execution_count": 428,
     "metadata": {},
     "output_type": "execute_result"
    },
    {
     "data": {
      "image/png": "[encoded data removed]",
      "text/plain": [
       "<matplotlib.figure.Figure at 0x12e8de310>"
      ]
     },
     "metadata": {},
     "output_type": "display_data"
    }
   ],
   "source": [
    "plt.figure(figsize=(2,2))\n",
    "plt.imshow( zero_fn(X_Au[0:10])[0][0], cmap=\"gray\" )"
   ]
  },
  {
   "cell_type": "markdown",
   "metadata": {},
   "source": [
    "Let's extract the latent vector for one of the Au's. Then, let's encode a B0, then decode it using this latent vector."
   ]
  },
  {
   "cell_type": "code",
   "execution_count": 363,
   "metadata": {
    "collapsed": true
   },
   "outputs": [],
   "source": [
    "decode_into_Au_using_custom_a_fn = theano.function([Au, a], decode_into_Au_using_custom_a)"
   ]
  },
  {
   "cell_type": "code",
   "execution_count": 420,
   "metadata": {
    "collapsed": false
   },
   "outputs": [],
   "source": [
    "latent_as = enc_fn(X_Au[30:40])[1].astype(\"float32\")"
   ]
  },
  {
   "cell_type": "code",
   "execution_count": 421,
   "metadata": {
    "collapsed": false
   },
   "outputs": [
    {
     "data": {
      "text/plain": [
       "(10, 64)"
      ]
     },
     "execution_count": 421,
     "metadata": {},
     "output_type": "execute_result"
    }
   ],
   "source": [
    "latent_as.shape"
   ]
  },
  {
   "cell_type": "code",
   "execution_count": 422,
   "metadata": {
    "collapsed": false
   },
   "outputs": [
    {
     "data": {
      "text/plain": [
       "<matplotlib.image.AxesImage at 0x12e28fb10>"
      ]
     },
     "execution_count": 422,
     "metadata": {},
     "output_type": "execute_result"
    },
    {
     "data": {
      "image/png": "[encoded data removed]",
      "text/plain": [
       "<matplotlib.figure.Figure at 0x144104210>"
      ]
     },
     "metadata": {},
     "output_type": "display_data"
    }
   ],
   "source": [
    "plt.figure(figsize=(2,2))\n",
    "plt.imshow(X_B0[0,0],cmap=\"gray\")"
   ]
  },
  {
   "cell_type": "code",
   "execution_count": 424,
   "metadata": {
    "collapsed": false
   },
   "outputs": [
    {
     "data": {
      "text/plain": [
       "<matplotlib.image.AxesImage at 0x11e9d2490>"
      ]
     },
     "execution_count": 424,
     "metadata": {},
     "output_type": "execute_result"
    },
    {
     "data": {
      "image/png": "[encoded data removed]",
      "text/plain": [
       "<matplotlib.figure.Figure at 0x11da96690>"
      ]
     },
     "metadata": {},
     "output_type": "display_data"
    }
   ],
   "source": [
    "plt.figure(figsize=(2,2))\n",
    "plt.imshow( decode_into_Au_using_custom_a_fn(X_B0[0:10], latent_as)[0][0], cmap=\"gray\" )"
   ]
  },
  {
   "cell_type": "markdown",
   "metadata": {},
   "source": [
    "Yay!"
   ]
  },
  {
   "cell_type": "code",
   "execution_count": 419,
   "metadata": {
    "collapsed": false
   },
   "outputs": [
    {
     "name": "stdout",
     "output_type": "stream",
     "text": [
      "0.670786392688 0.506945238139 0.500242346431\n",
      "0.66320643243 0.50450291419 0.499839959788\n",
      "0.66485544529 0.501729613375 0.499672061559\n",
      "0.675553813244 0.50329004293 0.500330868665\n",
      "0.663759119795 0.503882844374 0.500946478516\n",
      "0.651019933992 0.504968157282 0.501001056409\n",
      "0.645012095402 0.503652011956 0.501157769591\n",
      "0.650671883932 0.502305130476 0.500043699695\n",
      "0.641474771239 0.501798344978 0.500956928277\n",
      "0.636343725422 0.500943693599 0.500905381743\n",
      "0.631245188169 0.500878361488 0.501760239177\n",
      "0.62672372902 0.501147866041 0.501332157878\n",
      "0.61912745511 0.501301252882 0.501275232151\n",
      "0.615843197125 0.501697192933 0.500655531149\n",
      "0.613576048111 0.50167076048 0.500782605541\n",
      "0.614483444533 0.501440252877 0.500638038141\n",
      "0.611943673615 0.500473071655 0.500194106217\n",
      "0.607380552961 0.500684905823 0.500766550709\n",
      "0.60785606111 0.500480962906 0.500761197821\n",
      "0.606177979718 0.500462500352 0.501518528045\n",
      "0.600502292774 0.499893723687 0.500287879444\n",
      "0.600282932915 0.500011666489 0.50002835237\n",
      "0.599382976287 0.50011278525 0.500355643073\n",
      "0.597807755488 0.499919635233 0.500178018338\n",
      "0.597997763058 0.500277667171 0.500429874306\n",
      "0.598031774792 0.50063268609 0.500031820866\n",
      "0.597350768035 0.500471112 0.500580553015\n",
      "0.597679298753 0.499904036745 0.500652925563\n",
      "0.597759712916 0.499641361551 0.500541135806\n",
      "0.596188076738 0.500154586442 0.499925174943\n",
      "0.593778938885 0.500178846154 0.500198244103\n",
      "0.590735261532 0.499941086552 0.500076880844\n",
      "0.590340461148 0.500322766847 0.49952168381\n",
      "0.591484720865 0.500562050389 0.500019323112\n",
      "0.592702133548 0.500094907223 0.500482318051\n"
     ]
    },
    {
     "ename": "KeyboardInterrupt",
     "evalue": "",
     "output_type": "error",
     "traceback": [
      "\u001b[0;31m---------------------------------------------------------------------------\u001b[0m",
      "\u001b[0;31mKeyboardInterrupt\u001b[0m                         Traceback (most recent call last)",
      "\u001b[0;32m<ipython-input-419-7bfbb446d254>\u001b[0m in \u001b[0;36m<module>\u001b[0;34m()\u001b[0m\n\u001b[1;32m      2\u001b[0m     \u001b[0mlosses_a\u001b[0m\u001b[0;34m,\u001b[0m \u001b[0mlosses_b\u001b[0m\u001b[0;34m,\u001b[0m \u001b[0mlosses_c\u001b[0m \u001b[0;34m=\u001b[0m \u001b[0;34m[\u001b[0m\u001b[0;34m]\u001b[0m\u001b[0;34m,\u001b[0m \u001b[0;34m[\u001b[0m\u001b[0;34m]\u001b[0m\u001b[0;34m,\u001b[0m \u001b[0;34m[\u001b[0m\u001b[0;34m]\u001b[0m\u001b[0;34m\u001b[0m\u001b[0m\n\u001b[1;32m      3\u001b[0m     \u001b[0;32mfor\u001b[0m \u001b[0mX_Au_batch\u001b[0m\u001b[0;34m,\u001b[0m\u001b[0mX_B0_batch\u001b[0m \u001b[0;32min\u001b[0m \u001b[0miterator\u001b[0m\u001b[0;34m(\u001b[0m\u001b[0mX_Au\u001b[0m\u001b[0;34m,\u001b[0m \u001b[0mX_B0\u001b[0m\u001b[0;34m)\u001b[0m\u001b[0;34m:\u001b[0m\u001b[0;34m\u001b[0m\u001b[0m\n\u001b[0;32m----> 4\u001b[0;31m         \u001b[0ma\u001b[0m\u001b[0;34m,\u001b[0m\u001b[0mb\u001b[0m\u001b[0;34m,\u001b[0m\u001b[0mc\u001b[0m \u001b[0;34m=\u001b[0m \u001b[0mtrain_fn\u001b[0m\u001b[0;34m(\u001b[0m\u001b[0mX_Au_batch\u001b[0m\u001b[0;34m,\u001b[0m\u001b[0mX_B0_batch\u001b[0m\u001b[0;34m)\u001b[0m\u001b[0;34m\u001b[0m\u001b[0m\n\u001b[0m\u001b[1;32m      5\u001b[0m         \u001b[0mlosses_a\u001b[0m\u001b[0;34m.\u001b[0m\u001b[0mappend\u001b[0m\u001b[0;34m(\u001b[0m\u001b[0ma\u001b[0m\u001b[0;34m)\u001b[0m\u001b[0;34m\u001b[0m\u001b[0m\n\u001b[1;32m      6\u001b[0m         \u001b[0mlosses_b\u001b[0m\u001b[0;34m.\u001b[0m\u001b[0mappend\u001b[0m\u001b[0;34m(\u001b[0m\u001b[0mb\u001b[0m\u001b[0;34m)\u001b[0m\u001b[0;34m\u001b[0m\u001b[0m\n",
      "\u001b[0;32m/Users/cjb60/anaconda2/lib/python2.7/site-packages/Theano-0.9.0b1-py2.7.egg/theano/compile/function_module.pyc\u001b[0m in \u001b[0;36m__call__\u001b[0;34m(self, *args, **kwargs)\u001b[0m\n\u001b[1;32m    882\u001b[0m         \u001b[0;32mtry\u001b[0m\u001b[0;34m:\u001b[0m\u001b[0;34m\u001b[0m\u001b[0m\n\u001b[1;32m    883\u001b[0m             \u001b[0moutputs\u001b[0m \u001b[0;34m=\u001b[0m\u001b[0;31m\\\u001b[0m\u001b[0;34m\u001b[0m\u001b[0m\n\u001b[0;32m--> 884\u001b[0;31m                 \u001b[0mself\u001b[0m\u001b[0;34m.\u001b[0m\u001b[0mfn\u001b[0m\u001b[0;34m(\u001b[0m\u001b[0;34m)\u001b[0m \u001b[0;32mif\u001b[0m \u001b[0moutput_subset\u001b[0m \u001b[0;32mis\u001b[0m \u001b[0mNone\u001b[0m \u001b[0;32melse\u001b[0m\u001b[0;31m\\\u001b[0m\u001b[0;34m\u001b[0m\u001b[0m\n\u001b[0m\u001b[1;32m    885\u001b[0m                 \u001b[0mself\u001b[0m\u001b[0;34m.\u001b[0m\u001b[0mfn\u001b[0m\u001b[0;34m(\u001b[0m\u001b[0moutput_subset\u001b[0m\u001b[0;34m=\u001b[0m\u001b[0moutput_subset\u001b[0m\u001b[0;34m)\u001b[0m\u001b[0;34m\u001b[0m\u001b[0m\n\u001b[1;32m    886\u001b[0m         \u001b[0;32mexcept\u001b[0m \u001b[0mException\u001b[0m\u001b[0;34m:\u001b[0m\u001b[0;34m\u001b[0m\u001b[0m\n",
      "\u001b[0;32m/Users/cjb60/anaconda2/lib/python2.7/site-packages/Theano-0.9.0b1-py2.7.egg/theano/gof/op.pyc\u001b[0m in \u001b[0;36mrval\u001b[0;34m(p, i, o, n)\u001b[0m\n\u001b[1;32m    858\u001b[0m         \u001b[0;32mif\u001b[0m \u001b[0mparams\u001b[0m \u001b[0;32mis\u001b[0m \u001b[0mgraph\u001b[0m\u001b[0;34m.\u001b[0m\u001b[0mNoParams\u001b[0m\u001b[0;34m:\u001b[0m\u001b[0;34m\u001b[0m\u001b[0m\n\u001b[1;32m    859\u001b[0m             \u001b[0;31m# default arguments are stored in the closure of `rval`\u001b[0m\u001b[0;34m\u001b[0m\u001b[0;34m\u001b[0m\u001b[0m\n\u001b[0;32m--> 860\u001b[0;31m             \u001b[0;32mdef\u001b[0m \u001b[0mrval\u001b[0m\u001b[0;34m(\u001b[0m\u001b[0mp\u001b[0m\u001b[0;34m=\u001b[0m\u001b[0mp\u001b[0m\u001b[0;34m,\u001b[0m \u001b[0mi\u001b[0m\u001b[0;34m=\u001b[0m\u001b[0mnode_input_storage\u001b[0m\u001b[0;34m,\u001b[0m \u001b[0mo\u001b[0m\u001b[0;34m=\u001b[0m\u001b[0mnode_output_storage\u001b[0m\u001b[0;34m,\u001b[0m \u001b[0mn\u001b[0m\u001b[0;34m=\u001b[0m\u001b[0mnode\u001b[0m\u001b[0;34m)\u001b[0m\u001b[0;34m:\u001b[0m\u001b[0;34m\u001b[0m\u001b[0m\n\u001b[0m\u001b[1;32m    861\u001b[0m                 \u001b[0mr\u001b[0m \u001b[0;34m=\u001b[0m \u001b[0mp\u001b[0m\u001b[0;34m(\u001b[0m\u001b[0mn\u001b[0m\u001b[0;34m,\u001b[0m \u001b[0;34m[\u001b[0m\u001b[0mx\u001b[0m\u001b[0;34m[\u001b[0m\u001b[0;36m0\u001b[0m\u001b[0;34m]\u001b[0m \u001b[0;32mfor\u001b[0m \u001b[0mx\u001b[0m \u001b[0;32min\u001b[0m \u001b[0mi\u001b[0m\u001b[0;34m]\u001b[0m\u001b[0;34m,\u001b[0m \u001b[0mo\u001b[0m\u001b[0;34m)\u001b[0m\u001b[0;34m\u001b[0m\u001b[0m\n\u001b[1;32m    862\u001b[0m                 \u001b[0;32mfor\u001b[0m \u001b[0mo\u001b[0m \u001b[0;32min\u001b[0m \u001b[0mnode\u001b[0m\u001b[0;34m.\u001b[0m\u001b[0moutputs\u001b[0m\u001b[0;34m:\u001b[0m\u001b[0;34m\u001b[0m\u001b[0m\n",
      "\u001b[0;31mKeyboardInterrupt\u001b[0m: "
     ]
    }
   ],
   "source": [
    "\n",
    "for epoch in range(100):\n",
    "    losses_a, losses_b, losses_c = [], [], []\n",
    "    for X_Au_batch,X_B0_batch in iterator(X_Au, X_B0):\n",
    "        a,b,c = train_fn(X_Au_batch,X_B0_batch)\n",
    "        losses_a.append(a)\n",
    "        losses_b.append(b)\n",
    "        losses_c.append(c)\n",
    "    print np.mean(losses_a), np.mean(losses_b), np.mean(losses_c)"
   ]
  },
  {
   "cell_type": "code",
   "execution_count": null,
   "metadata": {
    "collapsed": true
   },
   "outputs": [],
   "source": []
  }
 ],
 "metadata": {
  "kernelspec": {
   "display_name": "Python 2",
   "language": "python",
   "name": "python2"
  },
  "language_info": {
   "codemirror_mode": {
    "name": "ipython",
    "version": 2
   },
   "file_extension": ".py",
   "mimetype": "text/x-python",
   "name": "python",
   "nbconvert_exporter": "python",
   "pygments_lexer": "ipython2",
   "version": "2.7.13"
  }
 },
 "nbformat": 4,
 "nbformat_minor": 2
}
